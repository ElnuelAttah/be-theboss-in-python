{
 "cells": [
  {
   "cell_type": "markdown",
   "id": "edbf6ebc-4664-4a25-be39-a1885ebf362a",
   "metadata": {},
   "source": [
    "# Lists in Python \n",
    "\n",
    "Python list is an ordered sequence of items. We can store more than one   \n",
    "item of different types in a list. Items in the list are accessed using the index. "
   ]
  },
  {
   "cell_type": "markdown",
   "id": "dc5b9db7-4faf-4d28-8c47-33caeb2eeadc",
   "metadata": {},
   "source": [
    "→ Make a list"
   ]
  },
  {
   "cell_type": "code",
   "execution_count": 31,
   "id": "9e9e111a-ac06-418a-a7a4-3b0ebd098661",
   "metadata": {},
   "outputs": [],
   "source": [
    "numbers = [1, 2, 3]\n",
    "\n",
    "fruits = ['apple', 'banana']\n",
    "\n",
    "mix_list = [3, 'python', 97, 2.1]"
   ]
  },
  {
   "cell_type": "markdown",
   "id": "e9714606-2aa8-43bb-8857-e499c0bf6efb",
   "metadata": {},
   "source": [
    "→ Access first item"
   ]
  },
  {
   "cell_type": "code",
   "execution_count": 2,
   "id": "b69e66cc-4994-4a12-931f-13946f040ac9",
   "metadata": {},
   "outputs": [
    {
     "data": {
      "text/plain": [
       "1"
      ]
     },
     "execution_count": 2,
     "metadata": {},
     "output_type": "execute_result"
    }
   ],
   "source": [
    "numbers[0]"
   ]
  },
  {
   "cell_type": "markdown",
   "id": "db1f0c1a-bdd9-4c7e-993e-cbafb2f27e2f",
   "metadata": {},
   "source": [
    "→ Access last item"
   ]
  },
  {
   "cell_type": "code",
   "execution_count": 3,
   "id": "d932515d-ae1b-4fcb-a9af-9e7a29a1a2c8",
   "metadata": {},
   "outputs": [
    {
     "data": {
      "text/plain": [
       "5"
      ]
     },
     "execution_count": 3,
     "metadata": {},
     "output_type": "execute_result"
    }
   ],
   "source": [
    "numbers[-1]"
   ]
  },
  {
   "cell_type": "markdown",
   "id": "3fde4699-81da-46b5-93db-3826000c8bd9",
   "metadata": {},
   "source": [
    "### ✨ Get the index of the item  \n",
    "returns the index of the given item"
   ]
  },
  {
   "cell_type": "code",
   "execution_count": 4,
   "id": "d3c61754-003b-43c5-aef9-18e775c00d88",
   "metadata": {},
   "outputs": [
    {
     "data": {
      "text/plain": [
       "3"
      ]
     },
     "execution_count": 4,
     "metadata": {},
     "output_type": "execute_result"
    }
   ],
   "source": [
    "numbers.index(4)"
   ]
  },
  {
   "cell_type": "markdown",
   "id": "0cc5a6d7-1c4a-4259-bbec-4e10466877c6",
   "metadata": {},
   "source": [
    "### 🟡 Add items using append\n",
    "\n",
    "`append` method add the items at the end of the list as   \n",
    "single item"
   ]
  },
  {
   "cell_type": "code",
   "execution_count": 5,
   "id": "17e90215-9029-4935-8f8f-244845bdd568",
   "metadata": {},
   "outputs": [],
   "source": [
    "numbers.append(10)\n",
    "numbers.append([1,2,3])"
   ]
  },
  {
   "cell_type": "code",
   "execution_count": 6,
   "id": "fedca2e1-f85a-4d85-8bed-851c6d15e129",
   "metadata": {},
   "outputs": [
    {
     "data": {
      "text/plain": [
       "[1, 2, 3, 4, 5, 10, [1, 2, 3]]"
      ]
     },
     "execution_count": 6,
     "metadata": {},
     "output_type": "execute_result"
    }
   ],
   "source": [
    "numbers"
   ]
  },
  {
   "cell_type": "markdown",
   "id": "f18ddf12-53f6-435a-8e73-ee539f02830e",
   "metadata": {},
   "source": [
    "🟡 Follow me @itsafiz "
   ]
  },
  {
   "cell_type": "markdown",
   "id": "8f7ddbfd-ad73-4ee7-8e38-08f2e41a3f43",
   "metadata": {},
   "source": [
    "### ✨ extend method  \n",
    "extend method adds all the elements of an iterable(string, list, tuple) to the end of the list "
   ]
  },
  {
   "cell_type": "code",
   "execution_count": 7,
   "id": "26b40540-936e-4a7c-8813-e3cf9fbb94a7",
   "metadata": {},
   "outputs": [],
   "source": [
    "numbers.extend([1,2,3])"
   ]
  },
  {
   "cell_type": "code",
   "execution_count": 8,
   "id": "6967d0f3-666d-4b37-9636-bfac59268af7",
   "metadata": {},
   "outputs": [
    {
     "data": {
      "text/plain": [
       "[1, 2, 3, 4, 5, 10, [1, 2, 3], 1, 2, 3]"
      ]
     },
     "execution_count": 8,
     "metadata": {},
     "output_type": "execute_result"
    }
   ],
   "source": [
    "numbers"
   ]
  },
  {
   "cell_type": "markdown",
   "id": "afb69b9b-83f5-4231-b478-42b6535e5135",
   "metadata": {},
   "source": [
    "### ✨ insert method\n",
    "\n",
    "insert method inserts the item/items at the given index. \n"
   ]
  },
  {
   "cell_type": "code",
   "execution_count": 9,
   "id": "36c29529-e971-457a-820b-6cbda3049d48",
   "metadata": {},
   "outputs": [
    {
     "data": {
      "text/plain": [
       "[1, 2, 99, 3, 4, 5, 10, [1, 2, 3], 1, 2, 3]"
      ]
     },
     "execution_count": 9,
     "metadata": {},
     "output_type": "execute_result"
    }
   ],
   "source": [
    "numbers.insert(2,99)\n",
    "numbers"
   ]
  },
  {
   "cell_type": "markdown",
   "id": "1778c400-8015-42a1-a98c-7925a4e47e86",
   "metadata": {},
   "source": [
    "### ✨ remove method\n",
    "\n",
    "remove method deletes the first matching item from the list"
   ]
  },
  {
   "cell_type": "code",
   "execution_count": 10,
   "id": "8c30a571-d666-4f87-854c-554e378c3596",
   "metadata": {},
   "outputs": [],
   "source": [
    "numbers.remove(99)"
   ]
  },
  {
   "cell_type": "code",
   "execution_count": 11,
   "id": "8ced9825-05ac-4cc7-b61e-02012900ac1a",
   "metadata": {},
   "outputs": [
    {
     "data": {
      "text/plain": [
       "[1, 2, 3, 4, 5, 10, [1, 2, 3], 1, 2, 3]"
      ]
     },
     "execution_count": 11,
     "metadata": {},
     "output_type": "execute_result"
    }
   ],
   "source": [
    "numbers"
   ]
  },
  {
   "cell_type": "code",
   "execution_count": 12,
   "id": "2e39930b-85b5-4a7c-b6ac-fa1b24964244",
   "metadata": {},
   "outputs": [],
   "source": [
    "numbers.remove([1,2,3])"
   ]
  },
  {
   "cell_type": "code",
   "execution_count": 13,
   "id": "e25ebe8c-fddf-4336-b1a1-5c894cf0e3d6",
   "metadata": {},
   "outputs": [
    {
     "data": {
      "text/plain": [
       "[1, 2, 3, 4, 5, 10, 1, 2, 3]"
      ]
     },
     "execution_count": 13,
     "metadata": {},
     "output_type": "execute_result"
    }
   ],
   "source": [
    "numbers"
   ]
  },
  {
   "cell_type": "markdown",
   "id": "e792f469-46f0-421e-bbdd-fa40bb6b5132",
   "metadata": {},
   "source": [
    "### ✨ Count method\n",
    "\n",
    "The `count()` method returns the number of times the given element appears in the list"
   ]
  },
  {
   "cell_type": "code",
   "execution_count": 14,
   "id": "e77beb93-83d9-488a-be65-1273a9156795",
   "metadata": {},
   "outputs": [
    {
     "data": {
      "text/plain": [
       "2"
      ]
     },
     "execution_count": 14,
     "metadata": {},
     "output_type": "execute_result"
    }
   ],
   "source": [
    "numbers.count(2)"
   ]
  },
  {
   "cell_type": "code",
   "execution_count": 15,
   "id": "8178a924-65f1-4b77-b253-f0c340ddecbb",
   "metadata": {},
   "outputs": [
    {
     "data": {
      "text/plain": [
       "2"
      ]
     },
     "execution_count": 15,
     "metadata": {},
     "output_type": "execute_result"
    }
   ],
   "source": [
    "numbers.count(3)"
   ]
  },
  {
   "cell_type": "markdown",
   "id": "12765ce2-871b-47ef-8fd0-5169d54f4374",
   "metadata": {},
   "source": [
    "### ✨ pop method\n",
    "\n",
    "`pop()` method deletes the element from the given index"
   ]
  },
  {
   "cell_type": "code",
   "execution_count": 16,
   "id": "3569cd48-7250-4e4b-9f43-55494349a28f",
   "metadata": {},
   "outputs": [
    {
     "data": {
      "text/plain": [
       "[1, 2, 3, 4, 5, 10, 1, 2, 3]"
      ]
     },
     "execution_count": 16,
     "metadata": {},
     "output_type": "execute_result"
    }
   ],
   "source": [
    "numbers"
   ]
  },
  {
   "cell_type": "code",
   "execution_count": 17,
   "id": "e2b759ba-37c6-4c08-b54b-55b415c71ecd",
   "metadata": {},
   "outputs": [
    {
     "data": {
      "text/plain": [
       "10"
      ]
     },
     "execution_count": 17,
     "metadata": {},
     "output_type": "execute_result"
    }
   ],
   "source": [
    "numbers.pop(5)"
   ]
  },
  {
   "cell_type": "code",
   "execution_count": 18,
   "id": "e6f8426f-d62c-4d90-bcd9-947899159fa0",
   "metadata": {},
   "outputs": [
    {
     "data": {
      "text/plain": [
       "[1, 2, 3, 4, 5, 1, 2, 3]"
      ]
     },
     "execution_count": 18,
     "metadata": {},
     "output_type": "execute_result"
    }
   ],
   "source": [
    "numbers"
   ]
  },
  {
   "cell_type": "markdown",
   "id": "6475084f-29a3-4c4e-960c-11860ca58b5d",
   "metadata": {
    "tags": []
   },
   "source": [
    "### ✨ sorting list itmes\n",
    "\n",
    "`sort()` method is used to sort the items in the list"
   ]
  },
  {
   "cell_type": "code",
   "execution_count": 19,
   "id": "4906bc1f-9de9-4cee-a658-f753563d7154",
   "metadata": {},
   "outputs": [
    {
     "data": {
      "text/plain": [
       "[1, 2, 3, 4, 5, 1, 2, 3]"
      ]
     },
     "execution_count": 19,
     "metadata": {},
     "output_type": "execute_result"
    }
   ],
   "source": [
    "numbers"
   ]
  },
  {
   "cell_type": "code",
   "execution_count": 20,
   "id": "bd74d498-9723-4c56-952a-2eb1c5c8c12f",
   "metadata": {},
   "outputs": [],
   "source": [
    "numbers.sort()"
   ]
  },
  {
   "cell_type": "code",
   "execution_count": 21,
   "id": "af9f440c-c4cd-4743-9934-6e1f8949effc",
   "metadata": {},
   "outputs": [
    {
     "data": {
      "text/plain": [
       "[1, 1, 2, 2, 3, 3, 4, 5]"
      ]
     },
     "execution_count": 21,
     "metadata": {},
     "output_type": "execute_result"
    }
   ],
   "source": [
    "numbers"
   ]
  },
  {
   "cell_type": "code",
   "execution_count": 24,
   "id": "07ea95a3-6ce1-4a8d-8bff-a548cd19efb1",
   "metadata": {},
   "outputs": [],
   "source": [
    "numbers.sort(reverse=True) # descending order"
   ]
  },
  {
   "cell_type": "code",
   "execution_count": 25,
   "id": "e8f786e7-0443-4ed7-9cf8-c534e3d81ecb",
   "metadata": {},
   "outputs": [
    {
     "data": {
      "text/plain": [
       "[5, 4, 3, 3, 2, 2, 1, 1]"
      ]
     },
     "execution_count": 25,
     "metadata": {},
     "output_type": "execute_result"
    }
   ],
   "source": [
    "numbers"
   ]
  },
  {
   "cell_type": "markdown",
   "id": "29ddbd43-7840-487b-aafc-9c2e578209fb",
   "metadata": {
    "tags": []
   },
   "source": [
    "### ✨ reverse list itmes\n",
    "\n",
    "`reverse()` method is used to reverse the items in the list"
   ]
  },
  {
   "cell_type": "code",
   "execution_count": 26,
   "id": "26ffb184-ee7e-4dcd-ac18-10050e1a8bcd",
   "metadata": {},
   "outputs": [
    {
     "data": {
      "text/plain": [
       "[5, 4, 3, 3, 2, 2, 1, 1]"
      ]
     },
     "execution_count": 26,
     "metadata": {},
     "output_type": "execute_result"
    }
   ],
   "source": [
    "numbers"
   ]
  },
  {
   "cell_type": "code",
   "execution_count": 27,
   "id": "69aa331c-1b8f-409d-bb47-c36c188254c3",
   "metadata": {},
   "outputs": [
    {
     "data": {
      "text/plain": [
       "[1, 1, 2, 2, 3, 3, 4, 5]"
      ]
     },
     "execution_count": 27,
     "metadata": {},
     "output_type": "execute_result"
    }
   ],
   "source": [
    "numbers.reverse()\n",
    "numbers"
   ]
  },
  {
   "cell_type": "markdown",
   "id": "8b71d2db-9b15-420a-8055-4319df7e400b",
   "metadata": {
    "tags": []
   },
   "source": [
    "### ✨ delete all the list itmes\n",
    "\n",
    "`clear()` method is used to delete all the items in the list"
   ]
  },
  {
   "cell_type": "code",
   "execution_count": 28,
   "id": "dcc1ef88-442b-4229-be64-2de12a853332",
   "metadata": {},
   "outputs": [
    {
     "data": {
      "text/plain": [
       "[1, 1, 2, 2, 3, 3, 4, 5]"
      ]
     },
     "execution_count": 28,
     "metadata": {},
     "output_type": "execute_result"
    }
   ],
   "source": [
    "numbers"
   ]
  },
  {
   "cell_type": "code",
   "execution_count": 29,
   "id": "e62511c5-fa8e-4aae-adef-0e356b6be213",
   "metadata": {},
   "outputs": [],
   "source": [
    "numbers.clear()"
   ]
  },
  {
   "cell_type": "code",
   "execution_count": 30,
   "id": "13ee3b3c-6297-4539-9783-c973735af0d5",
   "metadata": {},
   "outputs": [
    {
     "data": {
      "text/plain": [
       "[]"
      ]
     },
     "execution_count": 30,
     "metadata": {},
     "output_type": "execute_result"
    }
   ],
   "source": [
    "numbers"
   ]
  },
  {
   "cell_type": "code",
   "execution_count": null,
   "id": "47f8ea2d-6a19-4758-b824-6d298c0fe885",
   "metadata": {},
   "outputs": [],
   "source": []
  }
 ],
 "metadata": {
  "kernelspec": {
   "display_name": "default:Python",
   "language": "python",
   "name": "conda-env-default-py"
  },
  "language_info": {
   "codemirror_mode": {
    "name": "ipython",
    "version": 3
   },
   "file_extension": ".py",
   "mimetype": "text/x-python",
   "name": "python",
   "nbconvert_exporter": "python",
   "pygments_lexer": "ipython3",
   "version": "3.9.12"
  }
 },
 "nbformat": 4,
 "nbformat_minor": 5
}
