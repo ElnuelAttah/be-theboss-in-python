{
 "cells": [
  {
   "cell_type": "markdown",
   "id": "e0bbf4ed-ed6b-46c5-af9d-3dc075ef4203",
   "metadata": {},
   "source": [
    "## `namedtuples` in Python\n",
    "namedtuple of collections provides an extension of the built-in tuple \n",
    "data type. namedtuples allow us to give names to each element in the tuple. \n",
    "We can iterate through named tuples either by index or key."
   ]
  },
  {
   "cell_type": "code",
   "execution_count": 1,
   "id": "2613ab01-74cf-4414-b362-d2d4fdf7bf69",
   "metadata": {},
   "outputs": [
    {
     "name": "stdout",
     "output_type": "stream",
     "text": [
      "Steave is 15 years old.\n",
      "Rayan Shaik is 4 years old.\n"
     ]
    }
   ],
   "source": [
    "from collections import namedtuple\n",
    "\n",
    "# Create a named tuple to represent a student\n",
    "Student = namedtuple('Student', ['first_name', \n",
    "                                  'last_name', \n",
    "                                  'age'])\n",
    "\n",
    "# Create some person objects\n",
    "Steave = Student('Steave', 'Smith', 15)\n",
    "Rayan = Student('Rayan', 'Shaik', 4)\n",
    "\n",
    "# Print the student's information\n",
    "print(f\"{Steave.first_name} is {Steave.age} years old.\")\n",
    "print(f\"{Rayan[0]} {Rayan[1]} is {Rayan[2]} years old.\")\n"
   ]
  },
  {
   "cell_type": "code",
   "execution_count": null,
   "id": "5f3d188b-edc9-4c89-844f-08b3203f7a8a",
   "metadata": {},
   "outputs": [],
   "source": []
  }
 ],
 "metadata": {
  "kernelspec": {
   "display_name": "default:Python",
   "language": "python",
   "name": "conda-env-default-py"
  },
  "language_info": {
   "codemirror_mode": {
    "name": "ipython",
    "version": 3
   },
   "file_extension": ".py",
   "mimetype": "text/x-python",
   "name": "python",
   "nbconvert_exporter": "python",
   "pygments_lexer": "ipython3",
   "version": "3.9.12"
  }
 },
 "nbformat": 4,
 "nbformat_minor": 5
}
