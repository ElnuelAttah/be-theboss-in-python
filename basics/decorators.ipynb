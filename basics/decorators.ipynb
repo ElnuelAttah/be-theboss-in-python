{
 "cells": [
  {
   "cell_type": "markdown",
   "id": "e7935655-fc12-45ae-8dee-a54d68182c79",
   "metadata": {},
   "source": [
    "# Decorators in Python"
   ]
  },
  {
   "cell_type": "markdown",
   "id": "8609070c-15f7-4fb5-96f2-c7c3f1111ce0",
   "metadata": {},
   "source": [
    "Decorators in Python allow us to modify the function, arguments and results without touching the actual code of the function."
   ]
  },
  {
   "cell_type": "markdown",
   "id": "84ae34ec-d043-49d0-8740-c2826a730558",
   "metadata": {},
   "source": [
    "#### Decorators Definition \n",
    "A function that accepts a function as input and returns a function as output.   \n",
    "Here is a simple example of a Decorator which actually adds a banner to hello world. 👇\n",
    "\n",
    "### Example 1: Add a banner to Hello World!"
   ]
  },
  {
   "cell_type": "code",
   "execution_count": 4,
   "id": "7951edc2-b475-4271-a0ab-f570dfccaef6",
   "metadata": {},
   "outputs": [
    {
     "name": "stdout",
     "output_type": "stream",
     "text": [
      "***********\n",
      "Hello Afiz!\n",
      "***********\n"
     ]
    }
   ],
   "source": [
    "# decorator function \n",
    "def add_banner(func): # it accepts any function as input \n",
    "    def wrapper():\n",
    "        print('*'*11) # before calling function\n",
    "        func()\n",
    "        print('*'*11) # after calling function \n",
    "    return wrapper # returns the function \n",
    "        \n",
    "@add_banner # decorating your hello function \n",
    "def hello():\n",
    "    print('Hello Afiz!')\n",
    "    \n",
    "\n",
    "hello()"
   ]
  },
  {
   "cell_type": "markdown",
   "id": "79a033a7-0ecc-4ced-a7b5-a28db603bc1c",
   "metadata": {},
   "source": [
    "Write a decorator function to add one to the result of the function\n",
    "### Example 2: Add one to the result"
   ]
  },
  {
   "cell_type": "code",
   "execution_count": 5,
   "id": "a4895cc9-0ecd-476a-a836-cd0b42245d68",
   "metadata": {},
   "outputs": [
    {
     "name": "stdout",
     "output_type": "stream",
     "text": [
      "20\n"
     ]
    }
   ],
   "source": [
    "def add_one(func):\n",
    "    def wrapper(*args, **kwargs):\n",
    "        result = func(*args, **kwargs)\n",
    "        return result + 1\n",
    "    return wrapper \n",
    "\n",
    "\n",
    "@add_one\n",
    "def sum_of_two(a, b):\n",
    "    return a + b\n",
    "\n",
    "print(sum_of_two(10, 9)) # output: 20"
   ]
  },
  {
   "cell_type": "markdown",
   "id": "688bb915-8c50-4358-ab40-4c88d56dc25a",
   "metadata": {},
   "source": [
    "Write a decorator function to validate if all the params are integers.   \n",
    "\n",
    "In this example, we will see how we can make use of decorators to validate the parameters of a function.   \n",
    "\n",
    "### Example 3: Validate all the parameters are integers"
   ]
  },
  {
   "cell_type": "code",
   "execution_count": 6,
   "id": "b6c4fe73-ff08-473c-bdad-c9ac8a3406ef",
   "metadata": {},
   "outputs": [],
   "source": [
    "def validate_params(func):\n",
    "    def wrapper(*args, **kwargs):\n",
    "        try:\n",
    "            for arg in args:\n",
    "                if not isinstance(arg, (int, float)):\n",
    "                    raise TypeError\n",
    "            return func(*args, **kwargs)\n",
    "        except TypeError as e:\n",
    "            return 'All the params are not numbers'\n",
    "    return wrapper \n",
    "\n",
    "@validate_params\n",
    "def sum_of_two(a, b):\n",
    "    return a + b"
   ]
  },
  {
   "cell_type": "code",
   "execution_count": 7,
   "id": "c1a8e47b-f55f-4660-9587-6d2e75d213ad",
   "metadata": {},
   "outputs": [
    {
     "data": {
      "text/plain": [
       "30"
      ]
     },
     "execution_count": 7,
     "metadata": {},
     "output_type": "execute_result"
    }
   ],
   "source": [
    "sum_of_two(10, 20)"
   ]
  },
  {
   "cell_type": "code",
   "execution_count": 8,
   "id": "9b767fa2-7257-4c7d-8a6b-b2a70671689d",
   "metadata": {},
   "outputs": [
    {
     "data": {
      "text/plain": [
       "'All the params are not numbers'"
      ]
     },
     "execution_count": 8,
     "metadata": {},
     "output_type": "execute_result"
    }
   ],
   "source": [
    "sum_of_two('afd', 21)"
   ]
  },
  {
   "cell_type": "code",
   "execution_count": null,
   "id": "3a31022c-f931-4633-bb53-9f8489fa2070",
   "metadata": {},
   "outputs": [],
   "source": []
  }
 ],
 "metadata": {
  "kernelspec": {
   "display_name": "default:Python",
   "language": "python",
   "name": "conda-env-default-py"
  },
  "language_info": {
   "codemirror_mode": {
    "name": "ipython",
    "version": 3
   },
   "file_extension": ".py",
   "mimetype": "text/x-python",
   "name": "python",
   "nbconvert_exporter": "python",
   "pygments_lexer": "ipython3",
   "version": "3.9.12"
  }
 },
 "nbformat": 4,
 "nbformat_minor": 5
}
