{
 "cells": [
  {
   "cell_type": "markdown",
   "id": "e7935655-fc12-45ae-8dee-a54d68182c79",
   "metadata": {},
   "source": [
    "# Decorators in Python"
   ]
  },
  {
   "cell_type": "code",
   "execution_count": 1,
   "id": "b6c4fe73-ff08-473c-bdad-c9ac8a3406ef",
   "metadata": {},
   "outputs": [],
   "source": [
    "def validate_params(func):\n",
    "    def wrapper(*args, **kwargs):\n",
    "        try:\n",
    "            for arg in args:\n",
    "                if not isinstance(arg, (int, float)):\n",
    "                    raise TypeError\n",
    "            return func(*args, **kwargs)\n",
    "        except TypeError as e:\n",
    "            return 'All the params are not numbers'\n",
    "    return wrapper \n",
    "\n",
    "@validate_params\n",
    "def sum_of_two(a, b):\n",
    "    return a + b"
   ]
  },
  {
   "cell_type": "code",
   "execution_count": 2,
   "id": "c1a8e47b-f55f-4660-9587-6d2e75d213ad",
   "metadata": {},
   "outputs": [
    {
     "data": {
      "text/plain": [
       "30"
      ]
     },
     "execution_count": 2,
     "metadata": {},
     "output_type": "execute_result"
    }
   ],
   "source": [
    "sum_of_two(10, 20)"
   ]
  },
  {
   "cell_type": "code",
   "execution_count": 3,
   "id": "9b767fa2-7257-4c7d-8a6b-b2a70671689d",
   "metadata": {},
   "outputs": [
    {
     "data": {
      "text/plain": [
       "'All the params are not numbers'"
      ]
     },
     "execution_count": 3,
     "metadata": {},
     "output_type": "execute_result"
    }
   ],
   "source": [
    "sum_of_two('afd', 21)"
   ]
  },
  {
   "cell_type": "code",
   "execution_count": null,
   "id": "3a31022c-f931-4633-bb53-9f8489fa2070",
   "metadata": {},
   "outputs": [],
   "source": []
  }
 ],
 "metadata": {
  "kernelspec": {
   "display_name": "default:Python",
   "language": "python",
   "name": "conda-env-default-py"
  },
  "language_info": {
   "codemirror_mode": {
    "name": "ipython",
    "version": 3
   },
   "file_extension": ".py",
   "mimetype": "text/x-python",
   "name": "python",
   "nbconvert_exporter": "python",
   "pygments_lexer": "ipython3",
   "version": "3.9.12"
  }
 },
 "nbformat": 4,
 "nbformat_minor": 5
}
