{
 "cells": [
  {
   "cell_type": "markdown",
   "id": "dc7a65a0-94ff-4a59-9cca-4a8f4d4cf9fc",
   "metadata": {},
   "source": [
    "# Built-in Functions in Python"
   ]
  },
  {
   "cell_type": "markdown",
   "id": "17d974ac-0f59-4d93-914e-7f33a7b5d084",
   "metadata": {},
   "source": [
    "### `round()`\n",
    "\n",
    "The `round()` function returns a floating-point number rounded to the specified number of decimals\n",
    "\n",
    "**syntax**: `round(number, number_of_decimals)`"
   ]
  },
  {
   "cell_type": "code",
   "execution_count": 1,
   "id": "3cd95624-903b-4365-9b1c-6ed2a89efd8f",
   "metadata": {},
   "outputs": [
    {
     "data": {
      "text/plain": [
       "14"
      ]
     },
     "execution_count": 1,
     "metadata": {},
     "output_type": "execute_result"
    }
   ],
   "source": [
    "x = 13.55\n",
    "round(x)"
   ]
  },
  {
   "cell_type": "code",
   "execution_count": 2,
   "id": "59807aaf-b236-4ff8-8e01-6560c821dd55",
   "metadata": {},
   "outputs": [
    {
     "data": {
      "text/plain": [
       "3.89"
      ]
     },
     "execution_count": 2,
     "metadata": {},
     "output_type": "execute_result"
    }
   ],
   "source": [
    "a = 3.8898\n",
    "round(a, 3)"
   ]
  },
  {
   "cell_type": "markdown",
   "id": "dabb4335-ecb8-4ee4-bed7-5453aa00a28e",
   "metadata": {},
   "source": [
    "### `set()`\n",
    "\n",
    "The `set()` function is used to create a set in Python. \n",
    "\n",
    "**syntax**: `set(iterable)`"
   ]
  },
  {
   "cell_type": "code",
   "execution_count": 3,
   "id": "47ea61a5-627c-41de-9a19-47ddcbef7f31",
   "metadata": {},
   "outputs": [
    {
     "data": {
      "text/plain": [
       "{1, 2, 3, 4, 5}"
      ]
     },
     "execution_count": 3,
     "metadata": {},
     "output_type": "execute_result"
    }
   ],
   "source": [
    "number = [1,2,3,4,5]\n",
    "set(number)"
   ]
  },
  {
   "cell_type": "code",
   "execution_count": 4,
   "id": "0678c7b6-e71e-4656-bde2-c61201138b90",
   "metadata": {},
   "outputs": [
    {
     "data": {
      "text/plain": [
       "{1, 2, 3, 4, 9}"
      ]
     },
     "execution_count": 4,
     "metadata": {},
     "output_type": "execute_result"
    }
   ],
   "source": [
    "duplicate_numbers = [1,2,3,4,2,9,1]\n",
    "set(duplicate_numbers)"
   ]
  },
  {
   "cell_type": "markdown",
   "id": "9d1f5385-20dc-4b23-b761-52caa734db11",
   "metadata": {},
   "source": [
    "### `slice()`\n",
    "\n",
    "The `slice()` function returns a slice object that is used to slice any sequence (string, tuple, list, etc..)\n",
    "\n",
    "**syntax**: `slice(start, stop, step)`"
   ]
  },
  {
   "cell_type": "code",
   "execution_count": 5,
   "id": "a3cec336-5dee-4255-a892-ecaa30093b28",
   "metadata": {},
   "outputs": [
    {
     "data": {
      "text/plain": [
       "[1, 2]"
      ]
     },
     "execution_count": 5,
     "metadata": {},
     "output_type": "execute_result"
    }
   ],
   "source": [
    "numbers = [1,2,3,4,5,6,7,8,9]\n",
    "slice_numbers = slice(2) # it is equalant to 0:2\n",
    "numbers[slice_numbers]"
   ]
  },
  {
   "cell_type": "code",
   "execution_count": 9,
   "id": "c6f5b50c-cfa5-47fd-b72a-cb304b8b6727",
   "metadata": {},
   "outputs": [
    {
     "data": {
      "text/plain": [
       "'ion returns a s'"
      ]
     },
     "execution_count": 9,
     "metadata": {},
     "output_type": "execute_result"
    }
   ],
   "source": [
    "s = 'function returns a slice object that is used to slice any sequence'\n",
    "slice_text = slice(5, 20) # starting from 5th character to 20th character\n",
    "s[slice_text]"
   ]
  },
  {
   "cell_type": "code",
   "execution_count": 8,
   "id": "9aefe31e-2a49-4746-9498-b105bb5ec0fa",
   "metadata": {},
   "outputs": [
    {
     "data": {
      "text/plain": [
       "'i tna'"
      ]
     },
     "execution_count": 8,
     "metadata": {},
     "output_type": "execute_result"
    }
   ],
   "source": [
    "s = 'function returns a slice object that is used to slice any sequence'\n",
    "slice_text = slice(5, 20, 3) # starting from 5th character to 20th character, every 3rd char\n",
    "s[slice_text]"
   ]
  },
  {
   "cell_type": "code",
   "execution_count": null,
   "id": "1c9c5d9e-53bb-42b1-af9c-cca97c07c398",
   "metadata": {},
   "outputs": [],
   "source": []
  },
  {
   "cell_type": "markdown",
   "id": "136acece-f9d8-456d-af66-a9c57387932d",
   "metadata": {},
   "source": [
    "### `sorted()`\n",
    "\n",
    "The `sorted()` function is used to sort the iterables like list, tuples and strings. \n",
    "\n",
    "**syntax**: `sorted(iterable, Key=None, reverse=False)`"
   ]
  },
  {
   "cell_type": "code",
   "execution_count": 10,
   "id": "54357b8f-9aee-49c1-96c6-5c992d488d25",
   "metadata": {},
   "outputs": [
    {
     "data": {
      "text/plain": [
       "[2, 8, 11, 12, 14, 21]"
      ]
     },
     "execution_count": 10,
     "metadata": {},
     "output_type": "execute_result"
    }
   ],
   "source": [
    "numbers = [11, 14, 21, 12, 8, 2]\n",
    "sorted(numbers)"
   ]
  },
  {
   "cell_type": "markdown",
   "id": "5da2cfef-d21c-4c6c-8c2a-5bca66570365",
   "metadata": {},
   "source": [
    "sort the numbers in descending order"
   ]
  },
  {
   "cell_type": "code",
   "execution_count": 11,
   "id": "ecff50e1-c0f1-4f6c-aa2e-3d46151706db",
   "metadata": {},
   "outputs": [
    {
     "data": {
      "text/plain": [
       "[21, 14, 12, 11, 8, 2]"
      ]
     },
     "execution_count": 11,
     "metadata": {},
     "output_type": "execute_result"
    }
   ],
   "source": [
    "numbers = [11, 14, 21, 12, 8, 2]\n",
    "sorted(numbers, reverse=True)"
   ]
  },
  {
   "cell_type": "markdown",
   "id": "8cfc21a8-f5e6-4e12-a230-dee3adb7a493",
   "metadata": {},
   "source": [
    "**sort the words based on the length of the word**"
   ]
  },
  {
   "cell_type": "code",
   "execution_count": 12,
   "id": "bf3a87e4-fa5f-4756-ba1b-57a65191d618",
   "metadata": {},
   "outputs": [
    {
     "data": {
      "text/plain": [
       "['cat', 'dog', 'ball', 'fish', 'apple', 'mobile', 'chocolate']"
      ]
     },
     "execution_count": 12,
     "metadata": {},
     "output_type": "execute_result"
    }
   ],
   "source": [
    "words = ['apple', 'ball', 'cat', 'dog', 'fish', 'chocolate', 'mobile']\n",
    "\n",
    "sorted(words, key=len)"
   ]
  },
  {
   "cell_type": "markdown",
   "id": "2164e5eb-b9b8-4058-8c68-df94930205d0",
   "metadata": {},
   "source": [
    "More examples on sorted in the future threads 🧵"
   ]
  },
  {
   "cell_type": "code",
   "execution_count": null,
   "id": "a422b9db-3b62-496e-b1b7-bef5d4db4e81",
   "metadata": {},
   "outputs": [],
   "source": []
  }
 ],
 "metadata": {
  "kernelspec": {
   "display_name": "default:Python",
   "language": "python",
   "name": "conda-env-default-py"
  },
  "language_info": {
   "codemirror_mode": {
    "name": "ipython",
    "version": 3
   },
   "file_extension": ".py",
   "mimetype": "text/x-python",
   "name": "python",
   "nbconvert_exporter": "python",
   "pygments_lexer": "ipython3",
   "version": "3.9.12"
  }
 },
 "nbformat": 4,
 "nbformat_minor": 5
}
