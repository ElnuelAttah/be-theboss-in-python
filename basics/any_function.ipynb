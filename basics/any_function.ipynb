{
 "cells": [
  {
   "cell_type": "markdown",
   "id": "1ef64256-0919-4780-8b36-b8a9ad352ddb",
   "metadata": {},
   "source": [
    "## `any()` function in Python\n",
    "\n",
    "`any()` function returns `True` if any one of the elements of iterable is `True`.   \n",
    "If not, it returns `False`\n",
    "\n",
    "**syntax**: `any(iterable)`"
   ]
  },
  {
   "cell_type": "markdown",
   "id": "ed169f72-7ae3-4e91-b083-c8abdca85071",
   "metadata": {},
   "source": [
    "### 1. `any()` on Python Lists "
   ]
  },
  {
   "cell_type": "code",
   "execution_count": 1,
   "id": "6f1a8939-d6e5-4163-aff5-ed247a1bbe63",
   "metadata": {},
   "outputs": [
    {
     "data": {
      "text/plain": [
       "True"
      ]
     },
     "execution_count": 1,
     "metadata": {},
     "output_type": "execute_result"
    }
   ],
   "source": [
    "numbers = [1,2,3,4,5,6,0]\n",
    "\n",
    "any(numbers)"
   ]
  },
  {
   "cell_type": "code",
   "execution_count": 2,
   "id": "36e53470-cce3-414a-b70a-25c1b42aadf4",
   "metadata": {},
   "outputs": [
    {
     "data": {
      "text/plain": [
       "False"
      ]
     },
     "execution_count": 2,
     "metadata": {},
     "output_type": "execute_result"
    }
   ],
   "source": [
    "all_zeros = [0, 0, 0, 0, 0]\n",
    "any(all_zeros)"
   ]
  },
  {
   "cell_type": "code",
   "execution_count": 3,
   "id": "947923cf-adce-4105-9f19-cf12e9d8d02e",
   "metadata": {},
   "outputs": [
    {
     "data": {
      "text/plain": [
       "True"
      ]
     },
     "execution_count": 3,
     "metadata": {},
     "output_type": "execute_result"
    }
   ],
   "source": [
    "all_zeros_except_one = [0,0,0,0,1,0,0]\n",
    "any(all_zeros_except_one)"
   ]
  },
  {
   "cell_type": "code",
   "execution_count": 4,
   "id": "d78f7817-96af-4a73-8a3c-3f7d54a64328",
   "metadata": {},
   "outputs": [
    {
     "data": {
      "text/plain": [
       "False"
      ]
     },
     "execution_count": 4,
     "metadata": {},
     "output_type": "execute_result"
    }
   ],
   "source": [
    "all_false = [False, False, False]\n",
    "any(all_false)"
   ]
  },
  {
   "cell_type": "markdown",
   "id": "7ac20ea5-1a11-4a56-a1f9-7ec165fee0a1",
   "metadata": {},
   "source": [
    "🟢 Hope you like the content. \n",
    "🟡 Follow me @itsafiz"
   ]
  },
  {
   "cell_type": "markdown",
   "id": "fb7942c9-774a-4afa-ac77-0749f21ef96c",
   "metadata": {},
   "source": [
    "## 2. `any()` on string"
   ]
  },
  {
   "cell_type": "code",
   "execution_count": 1,
   "id": "dc0bb47d-c7d6-437c-804a-b93b3a7388e9",
   "metadata": {},
   "outputs": [
    {
     "data": {
      "text/plain": [
       "True"
      ]
     },
     "execution_count": 1,
     "metadata": {},
     "output_type": "execute_result"
    }
   ],
   "source": [
    "s = 'Python'\n",
    "any(s)"
   ]
  },
  {
   "cell_type": "code",
   "execution_count": 2,
   "id": "00b2ab72-f3d6-4828-b7a6-71e4cb87e566",
   "metadata": {},
   "outputs": [
    {
     "data": {
      "text/plain": [
       "True"
      ]
     },
     "execution_count": 2,
     "metadata": {},
     "output_type": "execute_result"
    }
   ],
   "source": [
    "s = '00000'\n",
    "any(s) # '0' is True"
   ]
  },
  {
   "cell_type": "markdown",
   "id": "0381197a-5b4e-48b5-8b8f-d678c86c95e0",
   "metadata": {},
   "source": [
    "Converting all the string characters into Integer 👇"
   ]
  },
  {
   "cell_type": "code",
   "execution_count": 3,
   "id": "ea30b036-d20d-4836-9969-1393a647308e",
   "metadata": {},
   "outputs": [
    {
     "data": {
      "text/plain": [
       "False"
      ]
     },
     "execution_count": 3,
     "metadata": {},
     "output_type": "execute_result"
    }
   ],
   "source": [
    "z = [int(c) for c in s]\n",
    "any(z)"
   ]
  },
  {
   "cell_type": "markdown",
   "id": "0947dcc3-d292-464f-9a66-1c4f7edcbf4e",
   "metadata": {},
   "source": [
    "## 3. `any()` on Dictionary"
   ]
  },
  {
   "cell_type": "code",
   "execution_count": 5,
   "id": "c3cd5cc3-4b0c-44e3-b45b-9ecbeab4bd12",
   "metadata": {},
   "outputs": [
    {
     "data": {
      "text/plain": [
       "True"
      ]
     },
     "execution_count": 5,
     "metadata": {},
     "output_type": "execute_result"
    }
   ],
   "source": [
    "d = {'name': 'Rayan', 'age': 4}\n",
    "any(d) # checks if any of the key is True"
   ]
  },
  {
   "cell_type": "code",
   "execution_count": 7,
   "id": "afcd03c7-6629-45e6-b4d2-956ba22e742a",
   "metadata": {},
   "outputs": [
    {
     "data": {
      "text/plain": [
       "True"
      ]
     },
     "execution_count": 7,
     "metadata": {},
     "output_type": "execute_result"
    }
   ],
   "source": [
    "d = {0: 'Rayan', 1: 4}\n",
    "# keys of d -> [0, 1] \n",
    "any(d) # checks if any of the key is True"
   ]
  },
  {
   "cell_type": "code",
   "execution_count": 9,
   "id": "ebd466a8-d209-4b65-a327-99dbd8356c3e",
   "metadata": {},
   "outputs": [
    {
     "data": {
      "text/plain": [
       "False"
      ]
     },
     "execution_count": 9,
     "metadata": {},
     "output_type": "execute_result"
    }
   ],
   "source": [
    "d = {0: True}\n",
    "any(d) # checks [0]"
   ]
  },
  {
   "cell_type": "code",
   "execution_count": 10,
   "id": "bb1a1138-283e-49aa-a9dc-dfdf872c2e12",
   "metadata": {},
   "outputs": [
    {
     "data": {
      "text/plain": [
       "False"
      ]
     },
     "execution_count": 10,
     "metadata": {},
     "output_type": "execute_result"
    }
   ],
   "source": [
    "d = {False: 1000}\n",
    "any(d)"
   ]
  },
  {
   "cell_type": "code",
   "execution_count": null,
   "id": "e39b6781-0475-4616-a853-973ec6942c6a",
   "metadata": {},
   "outputs": [],
   "source": []
  }
 ],
 "metadata": {
  "kernelspec": {
   "display_name": "default:Python",
   "language": "python",
   "name": "conda-env-default-py"
  },
  "language_info": {
   "codemirror_mode": {
    "name": "ipython",
    "version": 3
   },
   "file_extension": ".py",
   "mimetype": "text/x-python",
   "name": "python",
   "nbconvert_exporter": "python",
   "pygments_lexer": "ipython3",
   "version": "3.9.12"
  }
 },
 "nbformat": 4,
 "nbformat_minor": 5
}
