{
 "cells": [
  {
   "cell_type": "markdown",
   "id": "be3d4897-dd27-4ebe-aa18-5ca7aec4508b",
   "metadata": {},
   "source": [
    "## 107. Mathematical Animations in Python using Manim\n",
    "A community maintained Python library for creating mathematical animations."
   ]
  },
  {
   "cell_type": "code",
   "execution_count": null,
   "id": "40377d85-c1ed-4c2e-b9a7-7b88ce5144eb",
   "metadata": {},
   "outputs": [],
   "source": [
    "class CircleToSquare(Scene):\n",
    "    def construct(self):\n",
    "        blue_circle = Circle(color=BLUE, fill_opacity=0.5)\n",
    "        green_square = Square(color=GREEN, fill_opacity=0.8)\n",
    "        label = Text(\"Afiz\")\n",
    "        label.next_to(blue_circle, UP, buff=0.5)\n",
    "        self.play(Create(blue_circle))\n",
    "        self.wait()\n",
    "        \n",
    "        self.play(Transform(blue_circle, green_square), \n",
    "                  Write(label))\n",
    "        self.wait()"
   ]
  },
  {
   "cell_type": "markdown",
   "id": "928ab32c-aafc-41df-b20e-48655ba4438f",
   "metadata": {},
   "source": [
    "Manim GitHub Repo: https://github.com/manimCommunity/manim  \n",
    "Try Manim Without installing: https://try.manim.community/"
   ]
  },
  {
   "cell_type": "code",
   "execution_count": null,
   "id": "faf068ea-c242-434f-a311-3a7b1dd470c2",
   "metadata": {},
   "outputs": [],
   "source": []
  }
 ],
 "metadata": {
  "kernelspec": {
   "display_name": "default:Python",
   "language": "python",
   "name": "conda-env-default-py"
  },
  "language_info": {
   "codemirror_mode": {
    "name": "ipython",
    "version": 3
   },
   "file_extension": ".py",
   "mimetype": "text/x-python",
   "name": "python",
   "nbconvert_exporter": "python",
   "pygments_lexer": "ipython3",
   "version": "3.9.12"
  }
 },
 "nbformat": 4,
 "nbformat_minor": 5
}
