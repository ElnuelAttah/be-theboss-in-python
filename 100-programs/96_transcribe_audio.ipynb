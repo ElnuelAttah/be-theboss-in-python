{
 "cells": [
  {
   "cell_type": "markdown",
   "metadata": {},
   "source": [
    "## 104. Audio to Text Transcription 🔊"
   ]
  },
  {
   "cell_type": "code",
   "execution_count": 1,
   "metadata": {},
   "outputs": [
    {
     "name": "stdout",
     "output_type": "stream",
     "text": [
      "transcript_id = 'rep1x1zkm2-c2eb-497f-91c8-f28ec67bcffc'\n",
      "Getting the transcription result ....\n",
      "('The following is the short story Innocence by Honore de Balzac presented by '\n",
      " 'listen to Genius.com narrated by Mel Foster by the double crest of my fowl '\n",
      " \"and by the rose lining of my sweetheart's slipper, by all the horns of well \"\n",
      " 'beloved cuckolds, and by the virtue of their blessed wives. The finest work '\n",
      " 'of man is neither poetry, nor painted pictures, nor music, nor castles, nor '\n",
      " 'statues, be they carved never so well, nor rowing, nor sailing galleys. But '\n",
      " 'children, understand me, children up to the age of ten years, for after that '\n",
      " 'they become men or women, and cutting their wisdom teeth are not worth what '\n",
      " 'they cost. The worst are the best. Watch them playing prettily and '\n",
      " 'innocently with slippers above all, cancellated ones with the household '\n",
      " 'utensils, leaving that which displeases them, crying after that which '\n",
      " 'pleases them, munching the sweets and confectionery in the house, nibbling '\n",
      " 'at the stores, and always laughing as soon as their teeth are cut. And you '\n",
      " 'will agree with me that they are ')\n"
     ]
    }
   ],
   "source": [
    "import requests\n",
    "from pprint import pprint\n",
    "from time import sleep\n",
    "from config import api_key\n",
    "\n",
    "audio_url = 'https://listentogenius.com/recordings4/Innocence.mp3'\n",
    "endpoint = \"https://api.assemblyai.com/v2/transcript\"\n",
    "\n",
    "headers = {\n",
    "    'authorization': api_key, \n",
    "    'content-type': 'application/json'\n",
    "}\n",
    "\n",
    "body = { 'audio_url': audio_url}\n",
    "\n",
    "# 1. Submitting Files for Transcription\n",
    "\n",
    "res = requests.post(endpoint, json=body, headers=headers)\n",
    "transcript_id = res.json().get('id')\n",
    "print(f'{transcript_id = }')\n",
    "\n",
    "# 2. Getting the Transcription Result\n",
    "\n",
    "endpoint_full = f\"https://api.assemblyai.com/v2/transcript/{transcript_id}\"\n",
    "status = 'processing'\n",
    "while status != 'completed':\n",
    "    print('Getting the transcription result ....')\n",
    "    sleep(5)\n",
    "    res_text = requests.get(endpoint_full, headers=headers)\n",
    "    status = res_text.json().get('status')\n",
    "data = res_text.json().get('text')\n",
    "pprint(data[:1000])"
   ]
  },
  {
   "cell_type": "code",
   "execution_count": null,
   "metadata": {},
   "outputs": [],
   "source": []
  }
 ],
 "metadata": {
  "kernelspec": {
   "display_name": "Python 3",
   "language": "python",
   "name": "python3"
  },
  "language_info": {
   "codemirror_mode": {
    "name": "ipython",
    "version": 3
   },
   "file_extension": ".py",
   "mimetype": "text/x-python",
   "name": "python",
   "nbconvert_exporter": "python",
   "pygments_lexer": "ipython3",
   "version": "3.8.3"
  }
 },
 "nbformat": 4,
 "nbformat_minor": 4
}
