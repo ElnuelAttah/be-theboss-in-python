{
 "cells": [
  {
   "cell_type": "markdown",
   "id": "797938ed-05f5-4636-a954-0f8e14b719d7",
   "metadata": {},
   "source": [
    "### 102. Create Your own Audio Book ⚡️"
   ]
  },
  {
   "cell_type": "code",
   "execution_count": null,
   "id": "2047881e-5c45-4239-9dc7-6a1608bda619",
   "metadata": {},
   "outputs": [],
   "source": [
    "%pip install pyttsx3 -q\n",
    "%pip install pdfplumber -q"
   ]
  },
  {
   "cell_type": "code",
   "execution_count": 4,
   "id": "a4d91f9c-b636-423c-9c37-325a16d6037f",
   "metadata": {},
   "outputs": [],
   "source": [
    "import pyttsx3\n",
    "import pdfplumber as pp\n",
    "\n",
    "engine = pyttsx3.init()\n",
    "\n",
    "all_data = ''\n",
    "with pp.open('example.pdf') as book:\n",
    "    for page_no, page in enumerate(book.pages, start=1):\n",
    "        data = page.extract_text()\n",
    "        all_data += data\n",
    "engine.save_to_file(all_data, 'audio_book.mp3')\n",
    "engine.runAndWait()\n",
    "engine.stop()"
   ]
  },
  {
   "cell_type": "markdown",
   "id": "dbe20482-a187-499f-ab55-99c22108025c",
   "metadata": {},
   "source": [
    "🟢 Hope you like this program! 📚  \n",
    "🟡 Follow → @itsafiz  \n",
    "✅ Note: Run this program on your local system"
   ]
  },
  {
   "cell_type": "code",
   "execution_count": 5,
   "id": "02f1a8d1-fedc-44eb-978d-170cc619bd80",
   "metadata": {},
   "outputs": [
    {
     "data": {
      "text/plain": [
       "['book.pdf',\n",
       " '100_progress_bar.ipynb',\n",
       " '98_audio_book.ipynb',\n",
       " '99_pdt_to_text.ipynb',\n",
       " '.ipynb_checkpoints',\n",
       " 'audio_book.mp3',\n",
       " 'example.pdf']"
      ]
     },
     "execution_count": 5,
     "metadata": {},
     "output_type": "execute_result"
    }
   ],
   "source": [
    "import os\n",
    "os.listdir('.')"
   ]
  },
  {
   "cell_type": "code",
   "execution_count": null,
   "id": "1b68b202-893e-4046-958e-44477fc2a928",
   "metadata": {},
   "outputs": [],
   "source": []
  }
 ],
 "metadata": {
  "kernelspec": {
   "display_name": "Python 3 (ipykernel)",
   "language": "python",
   "name": "python3"
  },
  "language_info": {
   "codemirror_mode": {
    "name": "ipython",
    "version": 3
   },
   "file_extension": ".py",
   "mimetype": "text/x-python",
   "name": "python",
   "nbconvert_exporter": "python",
   "pygments_lexer": "ipython3",
   "version": "3.10.4"
  }
 },
 "nbformat": 4,
 "nbformat_minor": 5
}
