{
 "cells": [
  {
   "cell_type": "markdown",
   "id": "2f9a3830-ba43-43f5-a561-4082b9734abb",
   "metadata": {},
   "source": [
    "### 102. Create Your Audiobook in Python ⚡️"
   ]
  },
  {
   "cell_type": "code",
   "execution_count": null,
   "id": "06cbcbab-93fc-4b0b-a215-601356400e2d",
   "metadata": {},
   "outputs": [],
   "source": [
    "%pip install pyttsx3 -q\n",
    "%pip install pdfplumber -q"
   ]
  },
  {
   "cell_type": "code",
   "execution_count": null,
   "id": "7e439fdb-08a4-40fb-946b-b8d840829528",
   "metadata": {},
   "outputs": [],
   "source": [
    "import pyttsx3\n",
    "import pdfplumber as pp\n",
    "\n",
    "engine = pyttsx3.init()\n",
    "\n",
    "all_the_data = ''\n",
    "with pp.open('book.pdf') as book:\n",
    "    for page_no, page in enumerate(book.pages, start=1):\n",
    "        data = page.extract_text()\n",
    "        all_the_data += data\n",
    "\n",
    "engine.save_to_file(all_the_data, 'audio_book.mp3')\n",
    "engine.runAndWait()\n",
    "engine.stop()"
   ]
  },
  {
   "cell_type": "markdown",
   "id": "a2e063a0-5e06-44c1-8880-844e3d0a9526",
   "metadata": {},
   "source": [
    "🟢 Hope you like this program! 📚\n",
    "🟡 Follow → @itsafiz\n",
    "✅ Note: Run this program on your local system"
   ]
  },
  {
   "cell_type": "code",
   "execution_count": null,
   "id": "47207a59-92dd-4b69-b97f-ef6b2ee5af4b",
   "metadata": {},
   "outputs": [],
   "source": []
  }
 ],
 "metadata": {
  "kernelspec": {
   "display_name": "default:Python",
   "language": "python",
   "name": "conda-env-default-py"
  },
  "language_info": {
   "codemirror_mode": {
    "name": "ipython",
    "version": 3
   },
   "file_extension": ".py",
   "mimetype": "text/x-python",
   "name": "python",
   "nbconvert_exporter": "python",
   "pygments_lexer": "ipython3",
   "version": "3.9.12"
  }
 },
 "nbformat": 4,
 "nbformat_minor": 5
}
