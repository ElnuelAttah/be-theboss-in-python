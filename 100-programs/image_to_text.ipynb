{
 "cells": [
  {
   "cell_type": "markdown",
   "id": "f7e1fdc6-9441-4534-80ec-ef31578d0969",
   "metadata": {},
   "source": [
    "## 115. Extract Text from Image\n",
    "\n",
    "`pip install pytesseract -q`\n"
   ]
  },
  {
   "cell_type": "code",
   "execution_count": null,
   "id": "e76b8818-8269-4a23-8dc9-44f04810a3ab",
   "metadata": {},
   "outputs": [
    {
     "name": "stdout",
     "output_type": "stream",
     "text": [
      "Hi WY, | am Afiz.\n",
      "Follow me if you want to learn\n",
      "\n",
      "1. Pythen\n",
      "2. Data science\n",
      "3. ME\n",
      "\n"
     ]
    }
   ],
   "source": [
    "import pytesseract\n",
    "print(pytesseract.image_to_string('hi.png'))"
   ]
  },
  {
   "cell_type": "markdown",
   "id": "0f0c6a82-b31b-4fee-87d5-1b1a4a79db81",
   "metadata": {},
   "source": [
    "Note: Windows users download `tesseract` and set the tesseract executable location to pytesseract library\n",
    "\n",
    "`pytesseract.pytesseract.tesseract_cmd = r'C:\\Program Files\\Tesseract-OCR\\tesseract'` "
   ]
  },
  {
   "cell_type": "code",
   "execution_count": null,
   "id": "210dbf01-6339-4ab9-9d1c-2f4d582c7c6e",
   "metadata": {},
   "outputs": [],
   "source": []
  }
 ],
 "metadata": {
  "kernelspec": {
   "display_name": "Python 3 (ipykernel)",
   "language": "python",
   "name": "python3"
  }
 },
 "nbformat": 4,
 "nbformat_minor": 5
}
