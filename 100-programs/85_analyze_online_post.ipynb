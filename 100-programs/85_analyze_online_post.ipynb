{
 "cells": [
  {
   "cell_type": "markdown",
   "id": "c1a1e3d3-5715-456d-9278-3a26f991fbcc",
   "metadata": {},
   "source": [
    "## Detect Emotion, Sentiment and Trends using AI"
   ]
  },
  {
   "cell_type": "code",
   "execution_count": null,
   "id": "25d372fd-43be-4c3f-b6e2-b03ad8b72596",
   "metadata": {},
   "outputs": [],
   "source": [
    "!pip install oneai -q"
   ]
  },
  {
   "cell_type": "code",
   "execution_count": null,
   "id": "fe6d13e5-25e7-4b75-8126-fc50fd963e44",
   "metadata": {},
   "outputs": [],
   "source": [
    "import oneai\n",
    "\n",
    "oneai.api_key = \"ONE_AI_API_KEY\"\n",
    "text = \"YOUR_URL\"\n",
    "\n",
    "pipeline = oneai.Pipeline(\n",
    "  steps = [\n",
    "\t\toneai.skills.HtmlToArticle(),\n",
    "\t\toneai.skills.Topics(),\n",
    "\t\toneai.skills.Emotions(),\n",
    "  ]\n",
    ")\n",
    "\n",
    "output = pipeline.run(text)\n"
   ]
  },
  {
   "cell_type": "markdown",
   "id": "bd900225-e037-4904-b415-58fba488eb5e",
   "metadata": {},
   "source": [
    "🟡 Follow me @itsafiz"
   ]
  },
  {
   "cell_type": "code",
   "execution_count": null,
   "id": "a37a04b1-5935-42a2-afae-6b28666d2710",
   "metadata": {},
   "outputs": [],
   "source": []
  }
 ],
 "metadata": {
  "kernelspec": {
   "display_name": "default:Python",
   "language": "python",
   "name": "conda-env-default-py"
  },
  "language_info": {
   "codemirror_mode": {
    "name": "ipython",
    "version": 3
   },
   "file_extension": ".py",
   "mimetype": "text/x-python",
   "name": "python",
   "nbconvert_exporter": "python",
   "pygments_lexer": "ipython3",
   "version": "3.9.12"
  }
 },
 "nbformat": 4,
 "nbformat_minor": 5
}
