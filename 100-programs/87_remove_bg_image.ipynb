{
 "cells": [
  {
   "cell_type": "markdown",
   "id": "1527da4d-7268-45f0-9921-0392ee6338ea",
   "metadata": {},
   "source": [
    "### 113. Remove Image Background in 2 lines using Python"
   ]
  },
  {
   "cell_type": "code",
   "execution_count": null,
   "id": "172e13e0-4782-4395-9cbb-7fa0d2cb4e19",
   "metadata": {},
   "outputs": [],
   "source": [
    "%pip install rembg -q"
   ]
  },
  {
   "cell_type": "code",
   "execution_count": null,
   "id": "47b5c249-5580-475f-83bc-43cdd047a27a",
   "metadata": {},
   "outputs": [],
   "source": [
    "from rembg import remove\n",
    "from PIL import Image"
   ]
  },
  {
   "cell_type": "code",
   "execution_count": 6,
   "id": "57b1f01c-51d0-4854-93bd-4dd30357aa46",
   "metadata": {},
   "outputs": [],
   "source": [
    "without_bg = remove(Image.open('puppy.png'))\n",
    "without_bg.save('puppy_out.png')"
   ]
  }
 ],
 "metadata": {
  "kernelspec": {
   "display_name": "default:Python",
   "language": "python",
   "name": "conda-env-default-py"
  },
  "language_info": {
   "codemirror_mode": {
    "name": "ipython",
    "version": 3
   },
   "file_extension": ".py",
   "mimetype": "text/x-python",
   "name": "python",
   "nbconvert_exporter": "python",
   "pygments_lexer": "ipython3",
   "version": "3.9.12"
  }
 },
 "nbformat": 4,
 "nbformat_minor": 5
}
