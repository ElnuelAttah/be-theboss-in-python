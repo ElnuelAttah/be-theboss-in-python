{
 "cells": [
  {
   "cell_type": "markdown",
   "id": "1527da4d-7268-45f0-9921-0392ee6338ea",
   "metadata": {},
   "source": [
    "### 113. Remove Image Background in 2 lines using Python"
   ]
  },
  {
   "cell_type": "code",
   "execution_count": 1,
   "id": "172e13e0-4782-4395-9cbb-7fa0d2cb4e19",
   "metadata": {},
   "outputs": [
    {
     "name": "stdout",
     "output_type": "stream",
     "text": [
      "\n",
      "\u001b[1m[\u001b[0m\u001b[34;49mnotice\u001b[0m\u001b[1;39;49m]\u001b[0m\u001b[39;49m A new release of pip available: \u001b[0m\u001b[31;49m22.2.2\u001b[0m\u001b[39;49m -> \u001b[0m\u001b[32;49m22.3.1\u001b[0m\n",
      "\u001b[1m[\u001b[0m\u001b[34;49mnotice\u001b[0m\u001b[1;39;49m]\u001b[0m\u001b[39;49m To update, run: \u001b[0m\u001b[32;49mpip install --upgrade pip\u001b[0m\n",
      "Note: you may need to restart the kernel to use updated packages.\n"
     ]
    }
   ],
   "source": [
    "%pip install rembg -q"
   ]
  },
  {
   "cell_type": "code",
   "execution_count": 1,
   "id": "47b5c249-5580-475f-83bc-43cdd047a27a",
   "metadata": {},
   "outputs": [
    {
     "name": "stderr",
     "output_type": "stream",
     "text": [
      "/home/studio-lab-user/.conda/envs/default/lib/python3.9/site-packages/requests/__init__.py:102: RequestsDependencyWarning: urllib3 (1.26.9) or chardet (5.0.0)/charset_normalizer (2.0.12) doesn't match a supported version!\n",
      "  warnings.warn(\"urllib3 ({}) or chardet ({})/charset_normalizer ({}) doesn't match a supported \"\n"
     ]
    }
   ],
   "source": [
    "from rembg import remove\n",
    "from PIL import Image"
   ]
  },
  {
   "cell_type": "code",
   "execution_count": 6,
   "id": "57b1f01c-51d0-4854-93bd-4dd30357aa46",
   "metadata": {},
   "outputs": [],
   "source": [
    "without_bg = remove(Image.open('puppy.png'))\n",
    "without_bg.save('puppy_out.png')"
   ]
  },
  {
   "cell_type": "code",
   "execution_count": 3,
   "id": "b633f98c-7c66-4546-8771-36714e92e509",
   "metadata": {},
   "outputs": [],
   "source": [
    "from rembg import remove\n",
    "from PIL import Image\n",
    "without_bg = remove(Image.open('sanju.jpeg'))\n",
    "without_bg.save('sanju_out.png')"
   ]
  },
  {
   "cell_type": "code",
   "execution_count": null,
   "id": "da725cfb-7747-4f0a-ad92-7077dd710838",
   "metadata": {},
   "outputs": [],
   "source": []
  }
 ],
 "metadata": {
  "kernelspec": {
   "display_name": "default:Python",
   "language": "python",
   "name": "conda-env-default-py"
  },
  "language_info": {
   "codemirror_mode": {
    "name": "ipython",
    "version": 3
   },
   "file_extension": ".py",
   "mimetype": "text/x-python",
   "name": "python",
   "nbconvert_exporter": "python",
   "pygments_lexer": "ipython3",
   "version": "3.9.12"
  }
 },
 "nbformat": 4,
 "nbformat_minor": 5
}
