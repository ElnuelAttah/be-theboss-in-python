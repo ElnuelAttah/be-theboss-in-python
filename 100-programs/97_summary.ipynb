{
 "cells": [
  {
   "cell_type": "markdown",
   "metadata": {},
   "source": [
    "# 103. Summarize Any Book 📚"
   ]
  },
  {
   "cell_type": "code",
   "execution_count": null,
   "metadata": {},
   "outputs": [],
   "source": [
    "%pip install transformers -q\n",
    "%pip install pdfplumber -q"
   ]
  },
  {
   "cell_type": "code",
   "execution_count": 3,
   "metadata": {},
   "outputs": [],
   "source": [
    "import pdfplumber as pp\n",
    "\n",
    "def get_book_data(book_name):\n",
    "    all_data = ''\n",
    "    with pp.open(book_name) as book:\n",
    "        for page_no, page in enumerate(book.pages, start=1):\n",
    "            data = page.extract_text()\n",
    "            all_data += data\n",
    "    return all_data\n"
   ]
  },
  {
   "cell_type": "code",
   "execution_count": null,
   "metadata": {},
   "outputs": [],
   "source": [
    "from transformers import pipeline\n",
    "\n",
    "book_content = get_book_data('example.pdf')\n",
    "\n",
    "classifier = pipeline(\"summarization\")\n",
    "summary = classifier(book_content)"
   ]
  },
  {
   "cell_type": "code",
   "execution_count": 6,
   "metadata": {},
   "outputs": [
    {
     "name": "stdout",
     "output_type": "stream",
     "text": [
      " Alice was beginning to get tired of sitting by her sister on the bank, and of having nothing to do . She was considering in her own mind whether the pleasure of making a daisy-chain would be worth the trouble of getting up and picking the daisies . A White Rabbit with pink eyes ran close by her and took a watch out of its waistcoat-pocket, and looked at it, and then hurried on . Alice was just in time to see it pop down a large rabbit-hole under the hedge .\n"
     ]
    }
   ],
   "source": [
    "print(summary[0]['summary_text'])"
   ]
  },
  {
   "cell_type": "markdown",
   "metadata": {},
   "source": [
    "🟢 Hope you like this program! 📚  \n",
    "🟡 Follow → @itsafiz  "
   ]
  },
  {
   "cell_type": "code",
   "execution_count": null,
   "metadata": {},
   "outputs": [],
   "source": []
  }
 ],
 "metadata": {
  "kernelspec": {
   "display_name": "Python 3",
   "language": "python",
   "name": "python3"
  },
  "language_info": {
   "codemirror_mode": {
    "name": "ipython",
    "version": 3
   },
   "file_extension": ".py",
   "mimetype": "text/x-python",
   "name": "python",
   "nbconvert_exporter": "python",
   "pygments_lexer": "ipython3",
   "version": "3.8.3"
  }
 },
 "nbformat": 4,
 "nbformat_minor": 4
}
