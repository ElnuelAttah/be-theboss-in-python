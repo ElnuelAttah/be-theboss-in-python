{
 "cells": [
  {
   "cell_type": "markdown",
   "id": "694c16f2-2683-4cc2-9c65-e1f9f3f88f06",
   "metadata": {},
   "source": [
    "## 109. Remove Swear words from YouTube video"
   ]
  },
  {
   "cell_type": "markdown",
   "id": "1513296c-a623-4c63-8752-7dca63130c4b",
   "metadata": {},
   "source": [
    "### 1️. Download YouTube Video as MP3 🟡"
   ]
  },
  {
   "cell_type": "code",
   "execution_count": 1,
   "id": "9845e5c0-011a-40e8-a7b0-92ed054e49ec",
   "metadata": {},
   "outputs": [
    {
     "name": "stdout",
     "output_type": "stream",
     "text": [
      "[youtube] XByiHpUvrj0: Downloading webpage\n",
      "[download] Destination: XByiHpUvrj0.m4a\n",
      "[download] 100% of 1.86MiB in 00:3670KiB/s ETA 00:007\n",
      "[ffmpeg] Correcting container in \"XByiHpUvrj0.m4a\"\n",
      "[ffmpeg] Destination: XByiHpUvrj0.mp3\n",
      "Deleting original file XByiHpUvrj0.m4a (pass -k to keep)\n"
     ]
    }
   ],
   "source": [
    "import youtube_dl\n",
    "\n",
    "ydl_opts = {\n",
    "    'format': 'bestaudio/best',\n",
    "    'postprocessors': [{\n",
    "        'key': 'FFmpegExtractAudio',\n",
    "        'preferredcodec': 'mp3',\n",
    "        'preferredquality': '192',\n",
    "    }],\n",
    "    'outtmpl': '%(id)s.%(ext)s',\n",
    "}\n",
    "with youtube_dl.YoutubeDL(ydl_opts) as ydl:\n",
    "    ydl.download(['https://www.youtube.com/watch?v=XByiHpUvrj0'])"
   ]
  },
  {
   "cell_type": "markdown",
   "id": "979fe1bf-5bad-41ef-9b7e-58df8b069302",
   "metadata": {},
   "source": [
    "### 2. Upload MP3 to AssemblyAI 🟢"
   ]
  },
  {
   "cell_type": "code",
   "execution_count": 2,
   "id": "9ad7cb3a-8e24-4c2c-bddc-d3cd5f4a0db8",
   "metadata": {},
   "outputs": [
    {
     "name": "stdout",
     "output_type": "stream",
     "text": [
      "{'upload_url': 'https://cdn.assemblyai.com/upload/ad6ef570-41f6-4fce-8544-e572324d58af'}\n"
     ]
    }
   ],
   "source": [
    "import requests\n",
    "from config import api_key\n",
    "filename = \"XByiHpUvrj0.mp3\"\n",
    "def read_file(filename, chunk_size=5242880):\n",
    "    with open(filename, 'rb') as _file:\n",
    "        while True:\n",
    "            data = _file.read(chunk_size)\n",
    "            if not data:\n",
    "                break\n",
    "            yield data\n",
    "\n",
    "headers = {'authorization': api_key}\n",
    "response = requests.post('https://api.assemblyai.com/v2/upload',\n",
    "                        headers=headers,\n",
    "                        data=read_file(filename))\n",
    "\n",
    "print(response.json())"
   ]
  },
  {
   "cell_type": "markdown",
   "id": "a1f576ff-eebe-4b4e-ac2b-5500385fd6c9",
   "metadata": {},
   "source": [
    "### 3. Submit the Audio URL and remove swear words 🔥"
   ]
  },
  {
   "cell_type": "code",
   "execution_count": 5,
   "id": "0127e482-bf08-4dfd-af80-645b8164c12b",
   "metadata": {},
   "outputs": [
    {
     "name": "stdout",
     "output_type": "stream",
     "text": [
      "transcript_id = 'ro3d6956j4-e21b-4ee0-aaad-222c0e9cf368'\n",
      "(\"Swear words. They're the most popular and alluring taboos we have. But the \"\n",
      " 'secrets to their strange power have been shrouded in mystery until now. Join '\n",
      " 'me on a journey through the history, evolution and cultural impact of swear '\n",
      " \"words. Words don't start out as swear words. They're just words. Somebody \"\n",
      " \"decided at some point that this is a swear word. There's an acronymic \"\n",
      " 'etymology fornication under consent is the case. This household has been '\n",
      " 'given my consent to fight it is total horseshit. Imagine you can call the '\n",
      " \"words that you could be called so often that doesn't mean anything to you \"\n",
      " \"anymore, taking that negative and inverting it. What's the intention of the \"\n",
      " \"speaker? And what's the reception of the hero? My dog's a b****, but I never \"\n",
      " \"call her that. Who you calling a b****? I call her a con. There's something \"\n",
      " 'innately human about swearing. More conservative people try and invalidate '\n",
      " 'people they disagree with by, like, pointing to their language. French '\n",
      " \"advisory sticker to me. Was implicitly racist. Who's deciding these are bad \"\n",
      " \"words? Who did it? We're going to do an experiment. There are scientific \"\n",
      " 'studies that say that you feel better when you swear. You can hold your hand '\n",
      " \"in a bucket of nearly freezing water about 50% longer if you're swearing. \"\n",
      " \"And if you're not, s***. I think there's a need now for swearing and \"\n",
      " \"profanity more than any other time. The power of cursing. Like it's \"\n",
      " \"important. The release. That's really what profanity gives it. Oh, yeah. I'm \"\n",
      " \"Nicholas Cage. Let's get f*****.\")\n"
     ]
    }
   ],
   "source": [
    "from pprint import pprint\n",
    "from time import sleep\n",
    "\n",
    "audio_url = 'https://cdn.assemblyai.com/upload/ad6ef570-41f6-4fce-8544-e572324d58af'\n",
    "endpoint = \"https://api.assemblyai.com/v2/transcript\"\n",
    "\n",
    "headers = {\n",
    "    'authorization': api_key, \n",
    "    'content-type': 'application/json'\n",
    "}\n",
    "\n",
    "body = { 'audio_url': audio_url, \n",
    "        'filter_profanity': True } # 👈\n",
    "\n",
    "# 1. Submitting Files for Transcription\n",
    "\n",
    "res = requests.post(endpoint, json=body, headers=headers)\n",
    "transcript_id = res.json().get('id')\n",
    "print(f'{transcript_id = }')\n",
    "\n",
    "# 2. Getting the Transcription Result\n",
    "\n",
    "endpoint_full = f\"https://api.assemblyai.com/v2/transcript/{transcript_id}\"\n",
    "status = 'processing'\n",
    "while status != 'completed':\n",
    "    sleep(5)\n",
    "    res_text = requests.get(endpoint_full, headers=headers)\n",
    "    status = res_text.json().get('status')\n",
    "data = res_text.json().get('text')\n",
    "pprint(data)"
   ]
  },
  {
   "cell_type": "code",
   "execution_count": null,
   "id": "469e44e2-0885-4d18-b1e4-93e24ba3df75",
   "metadata": {},
   "outputs": [],
   "source": []
  }
 ],
 "metadata": {
  "kernelspec": {
   "display_name": "Python 3 (ipykernel)",
   "language": "python",
   "name": "python3"
  },
  "language_info": {
   "codemirror_mode": {
    "name": "ipython",
    "version": 3
   },
   "file_extension": ".py",
   "mimetype": "text/x-python",
   "name": "python",
   "nbconvert_exporter": "python",
   "pygments_lexer": "ipython3",
   "version": "3.10.4"
  }
 },
 "nbformat": 4,
 "nbformat_minor": 5
}
