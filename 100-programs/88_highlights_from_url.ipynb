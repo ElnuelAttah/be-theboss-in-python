{
 "cells": [
  {
   "cell_type": "markdown",
   "source": "# 112. Extract Highlits from Cricket Commentory",
   "metadata": {
    "cell_id": "6edf2afcf56c474ab28fef3c8b24133a",
    "tags": [],
    "deepnote_cell_type": "markdown",
    "deepnote_cell_height": 129
   }
  },
  {
   "cell_type": "code",
   "source": "import requests\nfrom config import api_key\n\nurl = \"https://api.oneai.com/api/v0/pipeline\"\nheaders = {\n  \"api-key\": api_key, \n  \"content-type\": \"application/json\"\n}\npayload = {\n  \"input\":'https://tinyurl.com/4fr5cbje',\n  \"input_type\": \"article\",\n  \"steps\": [\n      {\n      \"skill\": \"html-extract-article\"\n    },\n    {\n      \"skill\": \"highlights\"\n    }\n    ],\n  }\nr = requests.post(url, json=payload, headers=headers)\ndata = r.json()",
   "metadata": {
    "tags": [],
    "cell_id": "30161afb-f891-49c6-b64b-18f4af6e58a5",
    "deepnote_to_be_reexecuted": false,
    "source_hash": "fcf5a578",
    "execution_start": 1664954692978,
    "execution_millis": 4004,
    "deepnote_cell_type": "code",
    "deepnote_cell_height": 454
   },
   "execution_count": 4,
   "outputs": []
  },
  {
   "cell_type": "code",
   "source": "for res in [d for d in data['output'][0]['labels'] if d['type'] =='highlight']:\n    print(res['value'])",
   "metadata": {
    "cell_id": "584dfa1b87f94568b4330600110a6013",
    "tags": [],
    "deepnote_to_be_reexecuted": false,
    "source_hash": "40a7e0ad",
    "execution_start": 1664954926909,
    "execution_millis": 3,
    "deepnote_cell_type": "code",
    "deepnote_cell_height": 148.890625
   },
   "outputs": [
    {
     "name": "stdout",
     "text": "On 14 off 31 balls at one point, he finished with an unbeaten 51 off 56 even as Suryakumar came in and did his thing, making a robust 33-ball half-century as India got home by eight wickets.\n\"Like I said, Surya had a bigger impact, the way Virat [Kohli, who scored 49* in 28] batted as well… it's not been easy for someone like Dinesh [Karthik, who got 17* in seven]; he doesn't get too many balls, just to walk in there and do what's expected was a phenomenal batting effort.\"\n",
     "output_type": "stream"
    }
   ],
   "execution_count": null
  },
  {
   "cell_type": "markdown",
   "source": "<a style='text-decoration:none;line-height:16px;display:flex;color:#5B5B62;padding:10px;justify-content:end;' href='https://deepnote.com?utm_source=created-in-deepnote-cell&projectId=cd3b3d18-e65b-4acc-8d66-5b4bcd68d827' target=\"_blank\">\n<img alt='Created in deepnote.com' style='display:inline;max-height:16px;margin:0px;margin-right:7.5px;' src='data:image/svg+xml;base64,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' > </img>\nCreated in <span style='font-weight:600;margin-left:4px;'>Deepnote</span></a>",
   "metadata": {
    "tags": [],
    "created_in_deepnote_cell": true,
    "deepnote_cell_type": "markdown"
   }
  }
 ],
 "nbformat": 4,
 "nbformat_minor": 2,
 "metadata": {
  "orig_nbformat": 2,
  "deepnote": {},
  "deepnote_notebook_id": "31875c82-0f79-425e-8b0e-3526541d6345",
  "deepnote_execution_queue": []
 }
}