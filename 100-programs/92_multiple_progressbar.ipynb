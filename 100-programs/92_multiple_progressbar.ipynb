{
 "cells": [
  {
   "cell_type": "markdown",
   "id": "5d75b544-66f7-4e91-b2a2-e69030b37168",
   "metadata": {},
   "source": [
    "## 108. Multiple Progress Bars in Jupyter Notebook"
   ]
  },
  {
   "cell_type": "code",
   "execution_count": null,
   "id": "38c719bf-66ca-4d43-bd44-6d40a748a6f1",
   "metadata": {},
   "outputs": [],
   "source": [
    "%pip install tqdm -q"
   ]
  },
  {
   "cell_type": "code",
   "execution_count": 2,
   "id": "c3462872-7751-426d-a6c3-98abfb2e68c8",
   "metadata": {},
   "outputs": [
    {
     "data": {
      "application/vnd.jupyter.widget-view+json": {
       "model_id": "8c78caad992247049225b7cbf1302249",
       "version_major": 2,
       "version_minor": 0
      },
      "text/plain": [
       "Extract Data from Home Page:   0%|          | 0/5 [00:00<?, ?it/s]"
      ]
     },
     "metadata": {},
     "output_type": "display_data"
    },
    {
     "data": {
      "application/vnd.jupyter.widget-view+json": {
       "model_id": "80e9acc274024a658fd287900378b687",
       "version_major": 2,
       "version_minor": 0
      },
      "text/plain": [
       "Child Page 0:   0%|          | 0/100 [00:00<?, ?it/s]"
      ]
     },
     "metadata": {},
     "output_type": "display_data"
    },
    {
     "data": {
      "application/vnd.jupyter.widget-view+json": {
       "model_id": "1ae36e49160b4023bf9ac9c4de110a50",
       "version_major": 2,
       "version_minor": 0
      },
      "text/plain": [
       "Child Page 1:   0%|          | 0/100 [00:00<?, ?it/s]"
      ]
     },
     "metadata": {},
     "output_type": "display_data"
    },
    {
     "data": {
      "application/vnd.jupyter.widget-view+json": {
       "model_id": "54ce82ab87824f5b8faa12438a078ae8",
       "version_major": 2,
       "version_minor": 0
      },
      "text/plain": [
       "Child Page 2:   0%|          | 0/100 [00:00<?, ?it/s]"
      ]
     },
     "metadata": {},
     "output_type": "display_data"
    },
    {
     "data": {
      "application/vnd.jupyter.widget-view+json": {
       "model_id": "b95f240b6b7645e49bee1ff2abe7b249",
       "version_major": 2,
       "version_minor": 0
      },
      "text/plain": [
       "Child Page 3:   0%|          | 0/100 [00:00<?, ?it/s]"
      ]
     },
     "metadata": {},
     "output_type": "display_data"
    },
    {
     "data": {
      "application/vnd.jupyter.widget-view+json": {
       "model_id": "69bd96ae74a44c38b1262db9f5e60231",
       "version_major": 2,
       "version_minor": 0
      },
      "text/plain": [
       "Child Page 4:   0%|          | 0/100 [00:00<?, ?it/s]"
      ]
     },
     "metadata": {},
     "output_type": "display_data"
    }
   ],
   "source": [
    "from time import sleep\n",
    "from tqdm.notebook import trange\n",
    "\n",
    "for i in trange(5, desc='Extract Data from Home Page'):\n",
    "    sleep(0.1)\n",
    "    for x in trange(100, desc=f'Child Page {i}'):\n",
    "        sleep(0.05)"
   ]
  },
  {
   "cell_type": "markdown",
   "id": "dcfc379d-7917-42b4-810d-1293f40896e9",
   "metadata": {},
   "source": [
    "🟢 Hope you like this program! 📚  \n",
    "🟡 Follow → @itsafiz"
   ]
  },
  {
   "cell_type": "code",
   "execution_count": null,
   "id": "8068885b-9ebc-4601-9f87-452d516e9db3",
   "metadata": {},
   "outputs": [],
   "source": []
  }
 ],
 "metadata": {
  "kernelspec": {
   "display_name": "default:Python",
   "language": "python",
   "name": "conda-env-default-py"
  },
  "language_info": {
   "codemirror_mode": {
    "name": "ipython",
    "version": 3
   },
   "file_extension": ".py",
   "mimetype": "text/x-python",
   "name": "python",
   "nbconvert_exporter": "python",
   "pygments_lexer": "ipython3",
   "version": "3.9.12"
  }
 },
 "nbformat": 4,
 "nbformat_minor": 5
}
