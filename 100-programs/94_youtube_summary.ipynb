{
 "cells": [
  {
   "cell_type": "code",
   "execution_count": 12,
   "id": "ed2785ce-9f8f-4108-8966-f8657cde59df",
   "metadata": {},
   "outputs": [],
   "source": [
    "%pip install -U youtube-dl\n",
    "\n",
    "def download_youtube_vide(url):\n",
    "    # see the actual code to download YouTube videos here:\n",
    "    # https://github.com/afizs/be-theboss-in-python/blob/main/100-programs/95_transcribe_video.ipynb\n",
    "    return 'audio_book.mp3'\n",
    "    \n",
    "def upload_audiofile_to_assemblyai(file):\n",
    "    import requests\n",
    "    from config import api_key\n",
    "    filename = \"audio_book.mp3\"\n",
    "    def read_file(filename, chunk_size=5242880):\n",
    "        with open(filename, 'rb') as _file:\n",
    "            while True:\n",
    "                data = _file.read(chunk_size)\n",
    "                if not data:\n",
    "                    break\n",
    "                yield data\n",
    "\n",
    "    headers = {'authorization': api_key}\n",
    "    response = requests.post('https://api.assemblyai.com/v2/upload',\n",
    "                            headers=headers,\n",
    "                            data=read_file(filename))\n",
    "\n",
    "    return response.json().get('upload_url')"
   ]
  },
  {
   "cell_type": "markdown",
   "id": "d6a14522-7e66-4b93-8612-998b89431d75",
   "metadata": {},
   "source": [
    "## 106. Summarize YouTube Videos 📺"
   ]
  },
  {
   "cell_type": "code",
   "execution_count": null,
   "id": "60987253-14e0-41b5-a4b3-68579adf192d",
   "metadata": {},
   "outputs": [],
   "source": [
    "from config import api_key\n",
    "import requests\n",
    "from pprint import pprint\n",
    "from time import sleep\n",
    "\n",
    "# 1️⃣ Download YouTube video as mp3\n",
    "audio_file = download_youtube_vide(\"https://www.youtube.com/watch?v=hfRMHvUaI\")\n",
    "\n",
    "# 2️⃣ Upload Audio file to AssemblyAI\n",
    "audio_url = upload_audiofile_to_assemblyai(audio_file)\n",
    "\n",
    "# 3️⃣ Submit the audio url for transcription \n",
    "\n",
    "endpoint = \"https://api.assemblyai.com/v2/transcript\"\n",
    "\n",
    "headers = {\n",
    "    'authorization': api_key, \n",
    "    'content-type': 'application/json'}\n",
    "\n",
    "body = { 'audio_url': audio_url,\n",
    "          'auto_chapters': True}\n",
    "\n",
    "# ✅ Submitting Files for Transcription\n",
    "res = requests.post(endpoint, json=body, headers=headers)\n",
    "transcript_id = res.json().get('id')\n",
    "print(f'{transcript_id = }')\n",
    "\n",
    "# ✅ Getting the Transcription Result\n",
    "endpoint_full = f\"https://api.assemblyai.com/v2/transcript/{transcript_id}\"\n",
    "status = 'processing'\n",
    "while status != 'completed':\n",
    "    print('Getting the transcription result ....')\n",
    "    sleep(5)\n",
    "    res_text = requests.get(endpoint_full, headers=headers)\n",
    "    status = res_text.json().get('status')"
   ]
  },
  {
   "cell_type": "code",
   "execution_count": 14,
   "id": "f573ef02-82df-4b62-8210-23f957845274",
   "metadata": {},
   "outputs": [
    {
     "data": {
      "text/plain": [
       "[{'summary': 'Alice is tired of sitting by her sister on the bank and has nothing to do. She peeks into the book her sister is reading but finds it boring. Alice is considering making a daisy chain when a white rabbit with pink eyes runs close by her and takes a watch out of its waistcoat pocket. Alice runs after it and falls down a rabbit hole under the hedge.',\n",
       "  'headline': 'A white rabbit with pink eyes runs close to Alice and takes a watch out of its waistcoat pocket.',\n",
       "  'gist': 'A rabbit in the hedge.',\n",
       "  'start': 70,\n",
       "  'end': 90720}]"
      ]
     },
     "execution_count": 14,
     "metadata": {},
     "output_type": "execute_result"
    }
   ],
   "source": [
    "res_text.json().get('chapters')"
   ]
  },
  {
   "cell_type": "code",
   "execution_count": null,
   "id": "16be9ed7-7790-4b93-8b2e-8bb351355b29",
   "metadata": {},
   "outputs": [],
   "source": []
  }
 ],
 "metadata": {
  "kernelspec": {
   "display_name": "default:Python",
   "language": "python",
   "name": "conda-env-default-py"
  },
  "language_info": {
   "codemirror_mode": {
    "name": "ipython",
    "version": 3
   },
   "file_extension": ".py",
   "mimetype": "text/x-python",
   "name": "python",
   "nbconvert_exporter": "python",
   "pygments_lexer": "ipython3",
   "version": "3.9.12"
  }
 },
 "nbformat": 4,
 "nbformat_minor": 5
}
