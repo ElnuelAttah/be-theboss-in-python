{
 "cells": [
  {
   "cell_type": "markdown",
   "id": "a5c044d3-07de-4581-ae87-5cf11f62a473",
   "metadata": {},
   "source": [
    "#### ⚡️ LaTeX math description from Python functions"
   ]
  },
  {
   "cell_type": "code",
   "execution_count": null,
   "id": "ac1313fb-0196-4b5d-980c-8ef20fd4a30f",
   "metadata": {},
   "outputs": [],
   "source": [
    "%pip install latexify-py -q"
   ]
  },
  {
   "cell_type": "code",
   "execution_count": 1,
   "id": "e9d714c6-b192-44c9-8045-f604bf1b4f03",
   "metadata": {},
   "outputs": [],
   "source": [
    "import math\n",
    "import latexify"
   ]
  },
  {
   "cell_type": "code",
   "execution_count": 2,
   "id": "d3a2491c-9821-4703-98ce-fa27677466f6",
   "metadata": {},
   "outputs": [
    {
     "data": {
      "text/latex": [
       "$$ \\displaystyle \\mathrm{solve}(a, b, c) \\triangleq \\frac{-b + \\sqrt{b^{2} - 4ac}}{2(a + b)} $$"
      ],
      "text/plain": [
       "<latexify.core.with_latex.<locals>._LatexifiedFunction at 0x7f60b81aa580>"
      ]
     },
     "execution_count": 2,
     "metadata": {},
     "output_type": "execute_result"
    }
   ],
   "source": [
    "@latexify.with_latex\n",
    "def solve(a, b, c):\n",
    "  return (-b + math.sqrt(b**2 - 4*a*c)) / (2*(a+b))\n",
    "solve"
   ]
  },
  {
   "cell_type": "code",
   "execution_count": 3,
   "id": "0da84624-ab83-457f-b727-3a1f3bcaa557",
   "metadata": {},
   "outputs": [
    {
     "data": {
      "text/latex": [
       "$$ \\displaystyle \\mathrm{sinc}(x) \\triangleq \\left\\{ \\begin{array}{ll} 1, & \\mathrm{if} \\ x=0 \\\\ \\frac{\\sin{\\left({x}\\right)}}{x}, & \\mathrm{otherwise} \\end{array} \\right. $$"
      ],
      "text/plain": [
       "<latexify.core.with_latex.<locals>._LatexifiedFunction at 0x7f60b8255dc0>"
      ]
     },
     "execution_count": 3,
     "metadata": {},
     "output_type": "execute_result"
    }
   ],
   "source": [
    "@latexify.with_latex\n",
    "def sinc(x):\n",
    "  if x == 0:\n",
    "    return 1\n",
    "  else:\n",
    "    return math.sin(x) / x\n",
    "\n",
    "sinc"
   ]
  },
  {
   "cell_type": "code",
   "execution_count": 4,
   "id": "0daee869-b27c-4265-bdbc-b25a7621cb6c",
   "metadata": {},
   "outputs": [
    {
     "data": {
      "text/latex": [
       "$$ \\displaystyle \\mathrm{greek}({\\alpha}, {\\beta}, {\\gamma}, {\\Omega}) \\triangleq {\\alpha}{\\beta} + \\Gamma\\left({{\\gamma}}\\right) + {\\Omega} $$"
      ],
      "text/plain": [
       "<latexify.core.with_latex.<locals>._LatexifiedFunction at 0x7f60b81aa850>"
      ]
     },
     "execution_count": 4,
     "metadata": {},
     "output_type": "execute_result"
    }
   ],
   "source": [
    "# Some math symbols are converted automatically.\n",
    "@latexify.with_latex\n",
    "def greek(alpha, beta, gamma, Omega):\n",
    "  return alpha * beta + math.gamma(gamma) + Omega\n",
    "\n",
    "greek"
   ]
  },
  {
   "cell_type": "code",
   "execution_count": null,
   "id": "22a2e992-f878-40fb-8884-09fc0c6979ab",
   "metadata": {},
   "outputs": [],
   "source": []
  }
 ],
 "metadata": {
  "kernelspec": {
   "display_name": "default:Python",
   "language": "python",
   "name": "conda-env-default-py"
  },
  "language_info": {
   "codemirror_mode": {
    "name": "ipython",
    "version": 3
   },
   "file_extension": ".py",
   "mimetype": "text/x-python",
   "name": "python",
   "nbconvert_exporter": "python",
   "pygments_lexer": "ipython3",
   "version": "3.9.12"
  }
 },
 "nbformat": 4,
 "nbformat_minor": 5
}
