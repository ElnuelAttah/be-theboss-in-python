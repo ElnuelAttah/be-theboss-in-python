{
 "cells": [
  {
   "cell_type": "markdown",
   "id": "c735ecb3-3a20-4417-b33c-0725bd9756f6",
   "metadata": {},
   "source": [
    "### Default List as function param ⚡️"
   ]
  },
  {
   "cell_type": "code",
   "execution_count": 1,
   "id": "b80f578d-5868-4991-9904-0d758722d5a1",
   "metadata": {},
   "outputs": [],
   "source": [
    "def my_function(default = []):\n",
    "    default.append('Python')\n",
    "    return default"
   ]
  },
  {
   "cell_type": "code",
   "execution_count": 2,
   "id": "3710ccce-0860-4fc5-a78f-cdfbaa65a90e",
   "metadata": {},
   "outputs": [],
   "source": [
    "x = my_function()\n",
    "y = my_function(['Afiz'])\n",
    "z = my_function()"
   ]
  },
  {
   "cell_type": "markdown",
   "id": "ec2c51db-0168-475a-8a3c-0c7cffb19a4c",
   "metadata": {},
   "source": [
    "What is the value of x, y, z?\n",
    "\n",
    "🟡 1. As no argument is passed while calling the function.\n",
    "x value will be ['Python']\n",
    "\n",
    "🟢 2. Since ['Afiz'] is passed, y value will be  \n",
    "['Afiz'] + ['Python'] = ['Afiz', 'Python']\n",
    "\n",
    "🟡 3. Coming z, as no argument is passed, default will be considered,  \n",
    "BUT in the first function call default was already append with 'Python'  \n",
    "so in the third call ['Python'] + ['Python'] = ['Python', 'Python']  \n",
    "Z value is ['Python', 'Python']\n",
    "\n",
    "See the output yourself 👇"
   ]
  },
  {
   "cell_type": "code",
   "execution_count": 3,
   "id": "efb20c72-4769-41f4-9572-271407b4309f",
   "metadata": {},
   "outputs": [
    {
     "name": "stdout",
     "output_type": "stream",
     "text": [
      "['Python', 'Python']\n",
      "['Afiz', 'Python']\n",
      "['Python', 'Python']\n"
     ]
    }
   ],
   "source": [
    "print(x)\n",
    "print(y)\n",
    "print(z)"
   ]
  },
  {
   "cell_type": "code",
   "execution_count": null,
   "id": "b995ace5-ac54-49a5-abea-3d514380de65",
   "metadata": {},
   "outputs": [],
   "source": []
  }
 ],
 "metadata": {
  "kernelspec": {
   "display_name": "default:Python",
   "language": "python",
   "name": "conda-env-default-py"
  },
  "language_info": {
   "codemirror_mode": {
    "name": "ipython",
    "version": 3
   },
   "file_extension": ".py",
   "mimetype": "text/x-python",
   "name": "python",
   "nbconvert_exporter": "python",
   "pygments_lexer": "ipython3",
   "version": "3.9.12"
  }
 },
 "nbformat": 4,
 "nbformat_minor": 5
}
